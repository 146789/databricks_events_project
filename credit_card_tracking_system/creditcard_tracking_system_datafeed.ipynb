{
 "cells": [
  {
   "cell_type": "code",
   "execution_count": 0,
   "metadata": {
    "application/vnd.databricks.v1+cell": {
     "cellMetadata": {
      "byteLimit": 2048000,
      "rowLimit": 10000
     },
     "inputWidgets": {},
     "nuid": "545ccb6c-f03e-4181-ba63-9fdc3a045671",
     "showTitle": true,
     "tableResultSettingsMap": {},
     "title": "table creation"
    }
   },
   "outputs": [],
   "source": [
    "from pyspark.sql import SparkSession\n",
    "from pyspark.sql.functions import current_timestamp\n",
    "spark = SparkSession.builder.appName(\"credit_card_tracking\").getOrCreate()\n",
    "\n",
    "data = [\n",
    "    (101, 1, \"active\", 5000.0),\n",
    "    (102, 2, \"active\", 10000.0)\n",
    "]\n",
    "columns = [\"card_id\", \"customer_id\", \"status\", \"credit_limit\"]\n",
    "\n",
    "df = spark.createDataFrame(data, columns)\n",
    "credit_cards_table = \"incremental_load.default.credit_cards\"\n",
    "df.write.format(\"delta\") \\\n",
    "  .option(\"delta.enableChangeDataFeed\", \"true\") \\\n",
    "  .mode(\"overwrite\") \\\n",
    "  .saveAsTable(credit_cards_table)\n"
   ]
  },
  {
   "cell_type": "code",
   "execution_count": 0,
   "metadata": {
    "application/vnd.databricks.v1+cell": {
     "cellMetadata": {
      "byteLimit": 2048000,
      "rowLimit": 10000
     },
     "inputWidgets": {},
     "nuid": "6f92d1af-ebf8-48b2-8d4c-f2c08e1b36d0",
     "showTitle": true,
     "tableResultSettingsMap": {},
     "title": "update"
    }
   },
   "outputs": [],
   "source": [
    "updated_data = [\n",
    "    (101, 1, \"upgraded\", 7000.0),   # upgraded\n",
    "    (102, 2, \"blocked\", 10000.0)    # blocked\n",
    "]\n",
    "update_df = spark.createDataFrame(updated_data, columns)\n",
    "\n",
    "from delta.tables import DeltaTable\n",
    "delta_table = DeltaTable.forName(spark, credit_cards_table)\\\n",
    "print(\"Before merge\")\n",
    "display(delta_table)\n",
    "delta_table.alias(\"t\").merge(\n",
    "    update_df.alias(\"s\"),\n",
    "    \"t.card_id = s.card_id\"\n",
    ").whenMatchedUpdateAll().execute()\n",
    "print(\"After merge\")\n",
    "display(delta_table)\n"
   ]
  },
  {
   "cell_type": "code",
   "execution_count": 0,
   "metadata": {
    "application/vnd.databricks.v1+cell": {
     "cellMetadata": {},
     "inputWidgets": {},
     "nuid": "a5069635-979f-4f4a-9894-0eccd2a6ea4d",
     "showTitle": false,
     "tableResultSettingsMap": {},
     "title": ""
    }
   },
   "outputs": [],
   "source": []
  }
 ],
 "metadata": {
  "application/vnd.databricks.v1+notebook": {
   "computePreferences": null,
   "dashboards": [],
   "environmentMetadata": {
    "base_environment": "",
    "environment_version": "2"
   },
   "inputWidgetPreferences": null,
   "language": "python",
   "notebookMetadata": {
    "pythonIndentUnit": 4
   },
   "notebookName": "creditcard_tracking_system_datafeed",
   "widgets": {}
  },
  "language_info": {
   "name": "python"
  }
 },
 "nbformat": 4,
 "nbformat_minor": 0
}
