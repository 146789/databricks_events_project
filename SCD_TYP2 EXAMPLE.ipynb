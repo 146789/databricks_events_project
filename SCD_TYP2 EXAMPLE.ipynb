{
 "cells": [
  {
   "cell_type": "code",
   "execution_count": 0,
   "metadata": {
    "application/vnd.databricks.v1+cell": {
     "cellMetadata": {
      "byteLimit": 2048000,
      "rowLimit": 10000
     },
     "inputWidgets": {},
     "nuid": "c2a8575a-489b-4ed2-86ed-56475c89b046",
     "showTitle": false,
     "tableResultSettingsMap": {},
     "title": ""
    }
   },
   "outputs": [],
   "source": [
    "from pyspark.sql import SparkSession\n",
    "from pyspark.sql.functions import col, current_timestamp, lit, current_date()\n",
    "from pyspark.sql.types import StructType, StructField, IntegerType, StringType, TimestampType, BooleanType\n",
    "\n",
    "# Initialize Spark session\n",
    "\n",
    "# Define schema for the target table\n",
    "schema = StructType([\n",
    "    StructField(\"employee_id\", IntegerType(), False),\n",
    "    StructField(\"name\", StringType(), False),\n",
    "    StructField(\"department\", StringType(), False),\n",
    "    StructField(\"salary\", IntegerType(), False),\n",
    "    StructField(\"start_date\", TimestampType(), False),\n",
    "    StructField(\"end_date\", TimestampType(), True),\n",
    "    StructField(\"is_active\", BooleanType(), False)\n",
    "])\n"
   ]
  },
  {
   "cell_type": "code",
   "execution_count": 0,
   "metadata": {
    "application/vnd.databricks.v1+cell": {
     "cellMetadata": {
      "byteLimit": 2048000,
      "rowLimit": 10000
     },
     "inputWidgets": {},
     "nuid": "fe22defb-73b5-4b2b-b924-e9e0c8bbecd2",
     "showTitle": false,
     "tableResultSettingsMap": {},
     "title": ""
    }
   },
   "outputs": [],
   "source": [
    "# Initial source data (batch)\n",
    "source_data = [\n",
    "    (1, \"John Doe\", \"HR\", 50000),\n",
    "    (2, \"Jane Smith\", \"IT\", 60000)\n",
    "]\n",
    "source_df = spark.createDataFrame(source_data, [\"employee_id\", \"name\", \"department\", \"salary\"])\n",
    "source_df.display()\n",
    "\n",
    "target_table = \"incremental_load.default.scd2_employee\"\n",
    "# Create target Delta table (empty initially) or load existing\n",
    "try:\n",
    "    target_df = spark.read.format(\"delta\").table(target_table)\n",
    "except:\n",
    "    # If table doesn't exist, create an empty DataFrame with the schema\n",
    "    target_df = spark.createDataFrame([], schema)\n",
    "    target_df.write.format(\"delta\").mode(\"overwrite\").saveAsTable(target_table)\n",
    "print(\"count of target\")\n",
    "print(target_df.count())"
   ]
  },
  {
   "cell_type": "code",
   "execution_count": 0,
   "metadata": {
    "application/vnd.databricks.v1+cell": {
     "cellMetadata": {
      "byteLimit": 2048000,
      "rowLimit": 10000
     },
     "inputWidgets": {},
     "nuid": "7ca75ade-4055-4a52-8d0f-d23d9aecea44",
     "showTitle": false,
     "tableResultSettingsMap": {},
     "title": ""
    }
   },
   "outputs": [],
   "source": [
    "target_df = spark.read.format(\"delta\").table(target_table)\n",
    "active_target_df = target_df.filter(col(\"is_active\") == True)\n",
    "active_target_df.display()"
   ]
  },
  {
   "cell_type": "code",
   "execution_count": 0,
   "metadata": {
    "application/vnd.databricks.v1+cell": {
     "cellMetadata": {
      "byteLimit": 2048000,
      "rowLimit": 10000
     },
     "inputWidgets": {},
     "nuid": "f6a457a9-a369-48b7-9c34-8b18a5aec903",
     "showTitle": false,
     "tableResultSettingsMap": {},
     "title": ""
    }
   },
   "outputs": [],
   "source": [
    "join_condition = (\n",
    "        source_df.employee_id == active_target_df.employee_id\n",
    "    )\n",
    "joined_df = source_df.join(\n",
    "        active_target_df,\n",
    "        join_condition,\n",
    "        \"left\"\n",
    "    )\n",
    "joined_df.display()\n"
   ]
  },
  {
   "cell_type": "code",
   "execution_count": 0,
   "metadata": {
    "application/vnd.databricks.v1+cell": {
     "cellMetadata": {
      "byteLimit": 2048000,
      "rowLimit": 10000
     },
     "inputWidgets": {},
     "nuid": "1d02e4b2-c382-4079-87a3-a637d6ef58c3",
     "showTitle": false,
     "tableResultSettingsMap": {},
     "title": ""
    }
   },
   "outputs": [],
   "source": [
    "new_or_changed_df = joined_df.filter(\n",
    "        (active_target_df.employee_id.isNull()) |\n",
    "        (source_df.department != active_target_df.department) |\n",
    "        (source_df.salary != active_target_df.salary)\n",
    "    ).select(\n",
    "        source_df.employee_id,\n",
    "        source_df.name,\n",
    "        source_df.department,\n",
    "        source_df.salary,\n",
    "        current_date().alias(\"start_date\"),\n",
    "        lit(None).cast(\"timestamp\").alias(\"end_date\"),\n",
    "        lit(True).alias(\"is_active\")\n",
    "    )\n",
    "new_or_changed_df.display()\n"
   ]
  },
  {
   "cell_type": "code",
   "execution_count": 0,
   "metadata": {
    "application/vnd.databricks.v1+cell": {
     "cellMetadata": {},
     "inputWidgets": {},
     "nuid": "2f0b4f33-b7e8-4784-9bfb-f57437845c16",
     "showTitle": false,
     "tableResultSettingsMap": {},
     "title": ""
    }
   },
   "outputs": [],
   "source": []
  }
 ],
 "metadata": {
  "application/vnd.databricks.v1+notebook": {
   "computePreferences": null,
   "dashboards": [],
   "environmentMetadata": {
    "base_environment": "",
    "environment_version": "2"
   },
   "inputWidgetPreferences": null,
   "language": "python",
   "notebookMetadata": {
    "pythonIndentUnit": 4
   },
   "notebookName": "SCD_TYP2 EXAMPLE",
   "widgets": {}
  },
  "language_info": {
   "name": "python"
  }
 },
 "nbformat": 4,
 "nbformat_minor": 0
}
