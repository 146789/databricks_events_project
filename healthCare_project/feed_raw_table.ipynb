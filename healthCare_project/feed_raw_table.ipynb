{
 "cells": [
  {
   "cell_type": "code",
   "execution_count": 0,
   "metadata": {
    "application/vnd.databricks.v1+cell": {
     "cellMetadata": {
      "byteLimit": 2048000,
      "rowLimit": 10000
     },
     "inputWidgets": {},
     "nuid": "53b78ae6-f75f-4b72-9961-48de6ccf0078",
     "showTitle": false,
     "tableResultSettingsMap": {},
     "title": ""
    }
   },
   "outputs": [],
   "source": [
    "df = spark.read.format(\"csv\").option(\"header\", \"true\").option(\"inferSchema\", \"true\").load(\"/Volumes/incremental_load/project1/orders_data/healthcare_data/diagnosis_mapping.csv\")\n",
    "\n",
    "df.write.format(\"delta\").mode(\"append\").saveAsTable(\"incremental_load.default.raw_diagnosis_mapping\")"
   ]
  },
  {
   "cell_type": "code",
   "execution_count": 0,
   "metadata": {
    "application/vnd.databricks.v1+cell": {
     "cellMetadata": {
      "byteLimit": 2048000,
      "rowLimit": 10000
     },
     "inputWidgets": {},
     "nuid": "c570505a-79aa-4d80-94d6-1f69506abb5c",
     "showTitle": false,
     "tableResultSettingsMap": {},
     "title": ""
    }
   },
   "outputs": [],
   "source": [
    "path1 = \"/Volumes/incremental_load/project1/orders_data/healthcare_data/patients_daily_file_1_2024.csv\"\n",
    "path2 = \"/Volumes/incremental_load/project1/orders_data/healthcare_data/patients_daily_file_2_2024.csv\"\n",
    "path3 = \"/Volumes/incremental_load/project1/orders_data/healthcare_data/patients_daily_file_3_2024.csv\"\n",
    "\n",
    "df1 = spark.read.option(\"header\", \"true\").option(\"inferSchema\", \"true\").csv(f\"{path1}\")\n",
    "df1 = df1.withColumn(\"admission_date\", df1[\"admission_date\"].cast(\"date\"))\n",
    "\n",
    "display(df1)\n",
    "\n",
    "df1.write.format(\"delta\").option(\"mergeSchema\", \"true\").mode(\"append\").saveAsTable(\"incremental_load.default.raw_patients_daily\")"
   ]
  },
  {
   "cell_type": "code",
   "execution_count": 0,
   "metadata": {
    "application/vnd.databricks.v1+cell": {
     "cellMetadata": {},
     "inputWidgets": {},
     "nuid": "0d0def54-767e-4ceb-818b-f27be445f597",
     "showTitle": false,
     "tableResultSettingsMap": {},
     "title": ""
    }
   },
   "outputs": [],
   "source": []
  }
 ],
 "metadata": {
  "application/vnd.databricks.v1+notebook": {
   "computePreferences": null,
   "dashboards": [],
   "environmentMetadata": {
    "base_environment": "",
    "environment_version": "2"
   },
   "inputWidgetPreferences": null,
   "language": "python",
   "notebookMetadata": {
    "pythonIndentUnit": 4
   },
   "notebookName": "feed_raw_table",
   "widgets": {}
  },
  "language_info": {
   "name": "python"
  }
 },
 "nbformat": 4,
 "nbformat_minor": 0
}
