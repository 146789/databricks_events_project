{
 "cells": [
  {
   "cell_type": "code",
   "execution_count": 0,
   "metadata": {
    "application/vnd.databricks.v1+cell": {
     "cellMetadata": {
      "byteLimit": 2048000,
      "rowLimit": 10000
     },
     "inputWidgets": {},
     "nuid": "5600a70e-fb15-48f4-b333-e3763a7e1c3e",
     "showTitle": false,
     "tableResultSettingsMap": {},
     "title": ""
    }
   },
   "outputs": [],
   "source": [
    "from pyspark.sql.functions import *"
   ]
  },
  {
   "cell_type": "code",
   "execution_count": 0,
   "metadata": {
    "application/vnd.databricks.v1+cell": {
     "cellMetadata": {
      "byteLimit": 2048000,
      "rowLimit": 10000
     },
     "inputWidgets": {},
     "nuid": "2092bcb1-6dce-4e9b-a6b8-5cd09a4bd999",
     "showTitle": false,
     "tableResultSettingsMap": {},
     "title": ""
    }
   },
   "outputs": [],
   "source": [
    "credit_cards_table = \"incremental_load.default.credit_cards\"\n",
    "cdc_df = spark.read.format(\"delta\") \\\n",
    "    .option(\"readChangeData\", \"true\") \\\n",
    "    .option(\"startingVersion\", 0) \\\n",
    "    .table(credit_cards_table)\n",
    "cdc_df.display()\n"
   ]
  },
  {
   "cell_type": "code",
   "execution_count": 0,
   "metadata": {
    "application/vnd.databricks.v1+cell": {
     "cellMetadata": {
      "byteLimit": 2048000,
      "rowLimit": 10000
     },
     "inputWidgets": {},
     "nuid": "fd4a00be-ad4f-40a9-9759-5cf079b94b4d",
     "showTitle": false,
     "tableResultSettingsMap": {},
     "title": ""
    }
   },
   "outputs": [],
   "source": [
    "new_records = cdc_df.filter(cdc_df[\"_change_type\"].isin(\"update_postimage\", \"insert\")) \\\n",
    "    .withColumn(\"valid_from\", current_timestamp()) \\\n",
    "    .withColumn(\"valid_to\", lit(None).cast(\"timestamp\")) \\\n",
    "    .withColumn(\"is_current\", lit(True)) \\\n",
    "    .drop(\"_change_type\", \"_commit_version\")\n",
    "new_records.display() "
   ]
  },
  {
   "cell_type": "code",
   "execution_count": 0,
   "metadata": {
    "application/vnd.databricks.v1+cell": {
     "cellMetadata": {
      "byteLimit": 2048000,
      "rowLimit": 10000
     },
     "inputWidgets": {},
     "nuid": "1da7420a-cbb5-43c2-a7c2-ece82653025d",
     "showTitle": false,
     "tableResultSettingsMap": {},
     "title": ""
    }
   },
   "outputs": [],
   "source": [
    "from delta.tables import DeltaTable"
   ]
  },
  {
   "cell_type": "code",
   "execution_count": 0,
   "metadata": {
    "application/vnd.databricks.v1+cell": {
     "cellMetadata": {
      "byteLimit": 2048000,
      "rowLimit": 10000
     },
     "inputWidgets": {},
     "nuid": "136582dd-8b78-4d0d-a828-d155236e4de5",
     "showTitle": false,
     "tableResultSettingsMap": {},
     "title": ""
    }
   },
   "outputs": [],
   "source": [
    "scd2_catalog_table = \"incremental_load.default.credit_cards_scd2\" \n",
    "try:\n",
    "    print(\"Table exists, updating table\")\n",
    "    scd2_table = DeltaTable.forName(spark, scd2_catalog_table)\n",
    "except:\n",
    "    print(\"Table does not exist, creating new table\")\n",
    "    new_records.write.format(\"delta\").mode(\"overwrite\").saveAsTable(scd2_catalog_table)\n",
    "    scd2_table = DeltaTable.forName(spark, scd2_catalog_table)\n",
    "    print(\"Table created\")\n",
    "\n",
    "\n",
    "scd2_table.alias(\"t\").merge(\n",
    "    new_records.alias(\"s\"),\n",
    "    \"t.card_id = s.card_id AND t.is_current = true\"\n",
    ").whenMatchedUpdate(set={\n",
    "    \"valid_to\": current_timestamp(),\n",
    "    \"is_current\": lit(False)\n",
    "}).execute()\n",
    "\n",
    "scd2_table.alias(\"t\").merge(\n",
    "    new_records.alias(\"s\"),\n",
    "    \"t.card_id = s.card_id AND t.is_current = false\"\n",
    ").whenNotMatchedInsertAll().execute()\n",
    "\n",
    "spark.read.table(scd2_catalog_table).display()\n",
    "\n"
   ]
  },
  {
   "cell_type": "code",
   "execution_count": 0,
   "metadata": {
    "application/vnd.databricks.v1+cell": {
     "cellMetadata": {
      "byteLimit": 2048000,
      "rowLimit": 10000
     },
     "inputWidgets": {},
     "nuid": "7f29e49a-8a1d-439f-bbc8-c90ebd55d422",
     "showTitle": false,
     "tableResultSettingsMap": {},
     "title": ""
    }
   },
   "outputs": [],
   "source": []
  }
 ],
 "metadata": {
  "application/vnd.databricks.v1+notebook": {
   "computePreferences": null,
   "dashboards": [],
   "environmentMetadata": {
    "base_environment": "",
    "environment_version": "2"
   },
   "inputWidgetPreferences": null,
   "language": "python",
   "notebookMetadata": {
    "pythonIndentUnit": 4
   },
   "notebookName": "tracking_process",
   "widgets": {}
  },
  "language_info": {
   "name": "python"
  }
 },
 "nbformat": 4,
 "nbformat_minor": 0
}
